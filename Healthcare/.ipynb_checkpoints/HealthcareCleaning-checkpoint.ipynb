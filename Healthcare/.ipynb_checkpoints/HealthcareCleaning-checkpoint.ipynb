{
 "cells": [
  {
   "cell_type": "code",
   "execution_count": 2,
   "metadata": {},
   "outputs": [],
   "source": [
    "import pandas as pd\n",
    "import numpy as np\n",
    "import os\n",
    "\n",
    "file1 = \"lifeexp.csv\"\n",
    "file2 = \"childmor.csv\"\n",
    "file3 = \"matermor.csv\"\n",
    "\n",
    "lifecsv = pd.read_csv(file1)\n",
    "childcsv = pd.read_csv(file2)\n",
    "matercsv = pd.read_csv(file3)"
   ]
  },
  {
   "cell_type": "code",
   "execution_count": 4,
   "metadata": {},
   "outputs": [],
   "source": [
    "lifecsvna = lifecsv.dropna()\n",
    "childcsvna = childcsv.dropna()\n",
    "matercsvna = matercsv.dropna()"
   ]
  },
  {
   "cell_type": "code",
   "execution_count": 12,
   "metadata": {},
   "outputs": [],
   "source": [
    "lifecsvna.to_csv(\"LifeExpecClean.csv\")\n",
    "childcsvna.to_csv(\"ChildMortClean.csv\")\n",
    "matercsvna.to_csv(\"MaternalMortClean.csv\")"
   ]
  }
 ],
 "metadata": {
  "kernelspec": {
   "display_name": "Python 3",
   "language": "python",
   "name": "python3"
  },
  "language_info": {
   "codemirror_mode": {
    "name": "ipython",
    "version": 3
   },
   "file_extension": ".py",
   "mimetype": "text/x-python",
   "name": "python",
   "nbconvert_exporter": "python",
   "pygments_lexer": "ipython3",
   "version": "3.7.1"
  }
 },
 "nbformat": 4,
 "nbformat_minor": 2
}
