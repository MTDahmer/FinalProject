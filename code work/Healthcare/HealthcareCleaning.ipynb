{
 "cells": [
  {
   "cell_type": "code",
   "execution_count": 5,
   "metadata": {},
   "outputs": [],
   "source": [
    "import pandas as pd\n",
    "import numpy as np\n",
    "import os\n",
    "\n",
    "file1 = \"lifeexp.csv\"\n",
    "file2 = \"childmor.csv\"\n",
    "file3 = \"matermor.csv\"\n",
    "\n",
    "lifecsv = pd.read_csv(file1)\n",
    "childcsv = pd.read_csv(file2)\n",
    "matercsv = pd.read_csv(file3)"
   ]
  },
  {
   "cell_type": "code",
   "execution_count": 6,
   "metadata": {},
   "outputs": [],
   "source": [
    "lifecsvna = lifecsv.dropna()\n",
    "childcsvna = childcsv.dropna()\n",
    "matercsvna = matercsv.dropna()"
   ]
  },
  {
   "cell_type": "code",
   "execution_count": 7,
   "metadata": {
    "scrolled": true
   },
   "outputs": [
    {
     "data": {
      "text/plain": [
       "Entity                                              object\n",
       "Code                                                object\n",
       "Year                                                 int64\n",
       "Life expectancy at birth, total (years) (years)    float64\n",
       "Health expenditure (2010 int.-$) (int.-$)           object\n",
       "Total population (Gapminder)                       float64\n",
       "dtype: object"
      ]
     },
     "execution_count": 7,
     "metadata": {},
     "output_type": "execute_result"
    }
   ],
   "source": [
    "lifecsvna.dtypes"
   ]
  },
  {
   "cell_type": "code",
   "execution_count": 8,
   "metadata": {},
   "outputs": [],
   "source": [
    "lifecsvna = lifecsvna[lifecsvna['Health expenditure (2010 int.-$) (int.-$)'] != '..']\n",
    "lifecsvna['Health expenditure (2010 int.-$) (int.-$)'] = lifecsvna['Health expenditure (2010 int.-$) (int.-$)'].astype('float64')"
   ]
  },
  {
   "cell_type": "code",
   "execution_count": 9,
   "metadata": {
    "scrolled": true
   },
   "outputs": [
    {
     "data": {
      "text/plain": [
       "Entity                                                                   object\n",
       "Code                                                                     object\n",
       "Year                                                                      int64\n",
       "Child mortality rate (per 1,000 live births) (per 1,000 live births)    float64\n",
       " (2010 int-$)                                                            object\n",
       "Unnamed: 5                                                              float64\n",
       "dtype: object"
      ]
     },
     "execution_count": 9,
     "metadata": {},
     "output_type": "execute_result"
    }
   ],
   "source": [
    "childcsvna.dtypes"
   ]
  },
  {
   "cell_type": "code",
   "execution_count": 10,
   "metadata": {},
   "outputs": [
    {
     "data": {
      "text/plain": [
       "Entity                                                                              object\n",
       "Code                                                                                object\n",
       "Year                                                                                 int64\n",
       " (2010 int-$)                                                                       object\n",
       "Maternal mortality (deaths per 100,000 births) (deaths per 100,000 live births)    float64\n",
       "Unnamed: 5                                                                         float64\n",
       "dtype: object"
      ]
     },
     "execution_count": 10,
     "metadata": {},
     "output_type": "execute_result"
    }
   ],
   "source": [
    "matercsvna.dtypes"
   ]
  },
  {
   "cell_type": "code",
   "execution_count": 11,
   "metadata": {},
   "outputs": [
    {
     "data": {
      "text/plain": [
       "1049      982.3137\n",
       "1050      989.9003\n",
       "1051     1007.0003\n",
       "1052     1138.4230\n",
       "1053     1299.7468\n",
       "1054     1337.0718\n",
       "1055     1403.1552\n",
       "1056     1410.1761\n",
       "1057     1410.7119\n",
       "1058     1440.4453\n",
       "1059     1467.8877\n",
       "1060     1475.0446\n",
       "1061     1508.2358\n",
       "1062     1561.1210\n",
       "1063     1617.1644\n",
       "1064     1688.0412\n",
       "1065     1712.2838\n",
       "1066     1736.7152\n",
       "1067     1783.3481\n",
       "1068     1853.1596\n",
       "1069     1920.2033\n",
       "1070     1994.4415\n",
       "1071     2060.3732\n",
       "1072     2129.3472\n",
       "1073     2202.1760\n",
       "1074     2307.5170\n",
       "1075     2392.0429\n",
       "1076     2543.6197\n",
       "1077     2646.7086\n",
       "1078     2767.6725\n",
       "           ...    \n",
       "21571    2902.8663\n",
       "21572    3068.3808\n",
       "21573    3202.9039\n",
       "21574    3364.5363\n",
       "21575    3610.2574\n",
       "21576    3835.6971\n",
       "21577    4093.4464\n",
       "21578    4277.8840\n",
       "21579    4466.3900\n",
       "21580    4623.3645\n",
       "21581    4721.7997\n",
       "21582    4835.5526\n",
       "21583    4945.7865\n",
       "21584    5068.7317\n",
       "21585    5243.2100\n",
       "21586    5425.5428\n",
       "21587    5635.3400\n",
       "21588    5934.7847\n",
       "21589    6341.6322\n",
       "21590    6695.7248\n",
       "21591    6924.3707\n",
       "21592    7092.7348\n",
       "21593    7269.6777\n",
       "21594    7449.0334\n",
       "21595    7561.5873\n",
       "21596    7778.6191\n",
       "21597    7929.3720\n",
       "21598    8005.7887\n",
       "21599    8103.3367\n",
       "21600    8157.4229\n",
       "Name:  (2010 int-$), Length: 1175, dtype: float64"
      ]
     },
     "execution_count": 11,
     "metadata": {},
     "output_type": "execute_result"
    }
   ],
   "source": [
    "childcsvna = childcsvna[childcsvna[' (2010 int-$)'] != \"..\"]\n",
    "childcsvna[' (2010 int-$)'].astype('float64')"
   ]
  },
  {
   "cell_type": "code",
   "execution_count": 12,
   "metadata": {
    "scrolled": true
   },
   "outputs": [
    {
     "data": {
      "text/plain": [
       "1027      982.3137\n",
       "1028      989.9003\n",
       "1029     1007.0003\n",
       "1030     1138.4230\n",
       "1031     1299.7468\n",
       "1032     1337.0718\n",
       "1033     1403.1552\n",
       "1034     1410.1761\n",
       "1035     1410.7119\n",
       "1046     1853.1596\n",
       "1047     1920.2033\n",
       "1048     1994.4415\n",
       "1049     2060.3732\n",
       "1050     2129.3472\n",
       "1051     2202.1760\n",
       "1052     2307.5170\n",
       "1053     2392.0429\n",
       "1054     2543.6197\n",
       "1055     2646.7086\n",
       "1056     2767.6725\n",
       "1057     2872.3738\n",
       "1058     2999.5093\n",
       "1059     3090.6573\n",
       "1060     3240.3186\n",
       "1061     3242.9106\n",
       "1062     3323.2565\n",
       "1063     3415.1930\n",
       "1064     3494.4375\n",
       "1065     3629.7041\n",
       "1066     3607.3407\n",
       "           ...    \n",
       "21018    1746.0535\n",
       "21019    1809.8533\n",
       "21020    1954.6698\n",
       "21021    2092.2439\n",
       "21022    2177.4709\n",
       "21023    2260.2595\n",
       "21034    4093.4464\n",
       "21035    4277.8840\n",
       "21036    4466.3900\n",
       "21037    4623.3645\n",
       "21038    4721.7997\n",
       "21039    4835.5526\n",
       "21040    4945.7865\n",
       "21041    5068.7317\n",
       "21042    5243.2100\n",
       "21043    5425.5428\n",
       "21044    5635.3400\n",
       "21045    5934.7847\n",
       "21046    6341.6322\n",
       "21047    6695.7248\n",
       "21048    6924.3707\n",
       "21049    7092.7348\n",
       "21050    7269.6777\n",
       "21051    7449.0334\n",
       "21052    7561.5873\n",
       "21053    7778.6191\n",
       "21054    7929.3720\n",
       "21055    8005.7887\n",
       "21056    8103.3367\n",
       "21057    8157.4229\n",
       "Name:  (2010 int-$), Length: 867, dtype: float64"
      ]
     },
     "execution_count": 12,
     "metadata": {},
     "output_type": "execute_result"
    }
   ],
   "source": [
    "matercsvna = matercsvna[matercsvna[' (2010 int-$)'] != \"..\"]\n",
    "matercsvna[' (2010 int-$)'].astype('float64')"
   ]
  },
  {
   "cell_type": "code",
   "execution_count": 13,
   "metadata": {},
   "outputs": [],
   "source": [
    "univCountries = [\"Algeria\", \"Botswana\", \"Burkina Faso\", 'Egypt', 'Ghana', 'Mauritius', 'Morocco', 'Rwanda', 'Seychelles', 'South Africa', 'Tunisia', 'Argentina', 'The Bahamas', 'Brazil', 'Canada', 'Chile', 'Colombia', 'Costa Rica', 'Cuba', 'Mexico', 'Peru', 'Trinidad and Tobago', 'Bhutan', 'Georgia', 'Hong Kong', 'India', 'Israel', 'Japan', 'Macau', 'Maldives', 'China', 'Singapore', 'Sri Lanka', 'Taiwan', 'Thailand', 'Austria', 'Belgium', 'Croatia', 'Czech Republic', 'Denmark', 'Finland', 'France', 'Germany', 'Greece', 'Iceland', 'Ireland', 'Isle of Man', 'Italy', 'Luxembourg', 'Netherlands', 'Norway', 'Portugal', 'Romania', 'Russia', 'Serbia' ,'Spain', 'Sweden', 'Switzerland', 'United Kingdom', 'England' ,'Northern Ireland', 'Scotland', 'Wales', 'Australia', 'New Zealand']"
   ]
  },
  {
   "cell_type": "code",
   "execution_count": 17,
   "metadata": {},
   "outputs": [
    {
     "ename": "ValueError",
     "evalue": "The truth value of a Series is ambiguous. Use a.empty, a.bool(), a.item(), a.any() or a.all().",
     "output_type": "error",
     "traceback": [
      "\u001b[1;31m---------------------------------------------------------------------------\u001b[0m",
      "\u001b[1;31mValueError\u001b[0m                                Traceback (most recent call last)",
      "\u001b[1;32m<ipython-input-17-95b089302318>\u001b[0m in \u001b[0;36m<module>\u001b[1;34m\u001b[0m\n\u001b[1;32m----> 1\u001b[1;33m \u001b[0mchildcsvna\u001b[0m\u001b[1;33m[\u001b[0m\u001b[1;34m'Universal Healthcare'\u001b[0m\u001b[1;33m]\u001b[0m \u001b[1;33m=\u001b[0m \u001b[0mnp\u001b[0m\u001b[1;33m.\u001b[0m\u001b[0mwhere\u001b[0m\u001b[1;33m(\u001b[0m\u001b[0mchildcsvna\u001b[0m\u001b[1;33m[\u001b[0m\u001b[1;34m'Entity'\u001b[0m\u001b[1;33m]\u001b[0m \u001b[1;32min\u001b[0m \u001b[0munivCountries\u001b[0m\u001b[1;33m,\u001b[0m \u001b[1;34m'yes'\u001b[0m\u001b[1;33m,\u001b[0m \u001b[1;34m'no'\u001b[0m\u001b[1;33m)\u001b[0m\u001b[1;33m\u001b[0m\u001b[1;33m\u001b[0m\u001b[0m\n\u001b[0m\u001b[0;32m      2\u001b[0m \u001b[0mchildcsvna\u001b[0m\u001b[1;33m\u001b[0m\u001b[1;33m\u001b[0m\u001b[0m\n",
      "\u001b[1;32m~\\Anaconda3\\lib\\site-packages\\pandas\\core\\generic.py\u001b[0m in \u001b[0;36m__nonzero__\u001b[1;34m(self)\u001b[0m\n\u001b[0;32m   1574\u001b[0m         raise ValueError(\"The truth value of a {0} is ambiguous. \"\n\u001b[0;32m   1575\u001b[0m                          \u001b[1;34m\"Use a.empty, a.bool(), a.item(), a.any() or a.all().\"\u001b[0m\u001b[1;33m\u001b[0m\u001b[1;33m\u001b[0m\u001b[0m\n\u001b[1;32m-> 1576\u001b[1;33m                          .format(self.__class__.__name__))\n\u001b[0m\u001b[0;32m   1577\u001b[0m \u001b[1;33m\u001b[0m\u001b[0m\n\u001b[0;32m   1578\u001b[0m     \u001b[0m__bool__\u001b[0m \u001b[1;33m=\u001b[0m \u001b[0m__nonzero__\u001b[0m\u001b[1;33m\u001b[0m\u001b[1;33m\u001b[0m\u001b[0m\n",
      "\u001b[1;31mValueError\u001b[0m: The truth value of a Series is ambiguous. Use a.empty, a.bool(), a.item(), a.any() or a.all()."
     ]
    }
   ],
   "source": [
    "\n"
   ]
  },
  {
   "cell_type": "code",
   "execution_count": null,
   "metadata": {},
   "outputs": [],
   "source": [
    "lifecsvna.to_csv(\"LifeExpecClean.csv\")\n",
    "childcsvna.to_csv(\"ChildMortClean.csv\")\n",
    "matercsvna.to_csv(\"MaternalMortClean.csv\")"
   ]
  }
 ],
 "metadata": {
  "kernelspec": {
   "display_name": "Python 3",
   "language": "python",
   "name": "python3"
  },
  "language_info": {
   "codemirror_mode": {
    "name": "ipython",
    "version": 3
   },
   "file_extension": ".py",
   "mimetype": "text/x-python",
   "name": "python",
   "nbconvert_exporter": "python",
   "pygments_lexer": "ipython3",
   "version": "3.7.1"
  }
 },
 "nbformat": 4,
 "nbformat_minor": 2
}
