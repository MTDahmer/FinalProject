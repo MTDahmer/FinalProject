{
 "cells": [
  {
   "cell_type": "code",
   "execution_count": 1,
   "metadata": {},
   "outputs": [],
   "source": [
    "import matplotlib as plt\n",
    "import pandas as pd\n",
    "import numpy as np\n",
    "from sklearn.linear_model import LinearRegression\n"
   ]
  },
  {
   "cell_type": "code",
   "execution_count": 2,
   "metadata": {},
   "outputs": [],
   "source": [
    "\n",
    "file1 = \"LifeExpecClean.csv\"\n",
    "file2 = \"ChildMortClean.csv\"\n",
    "file3 = \"MaternalMortClean.csv\"\n",
    "\n",
    "lifecsv = pd.read_csv(file1)\n",
    "childcsv = pd.read_csv(file2)\n",
    "matercsv = pd.read_csv(file3)"
   ]
  },
  {
   "cell_type": "code",
   "execution_count": 3,
   "metadata": {
    "scrolled": true
   },
   "outputs": [
    {
     "data": {
      "text/plain": [
       "Unnamed: 0               int64\n",
       "Entity                  object\n",
       "Code                    object\n",
       "Year                     int64\n",
       "Life expectancy        float64\n",
       "$ Spent per Citizen    float64\n",
       "Total population         int64\n",
       "dtype: object"
      ]
     },
     "execution_count": 3,
     "metadata": {},
     "output_type": "execute_result"
    }
   ],
   "source": [
    "lifecsv.dtypes"
   ]
  },
  {
   "cell_type": "code",
   "execution_count": 4,
   "metadata": {},
   "outputs": [
    {
     "data": {
      "text/plain": [
       "Unnamed: 0                                         int64\n",
       "Entity                                            object\n",
       "Code                                              object\n",
       "Year                                               int64\n",
       "Child mortality rate (per 1,000 live births)     float64\n",
       "$ Spent per Citizen                              float64\n",
       "Total Population                                   int64\n",
       "dtype: object"
      ]
     },
     "execution_count": 4,
     "metadata": {},
     "output_type": "execute_result"
    }
   ],
   "source": [
    "childcsv.dtypes"
   ]
  },
  {
   "cell_type": "code",
   "execution_count": 5,
   "metadata": {},
   "outputs": [
    {
     "data": {
      "text/plain": [
       "Unnamed: 0                                                                           int64\n",
       "Entity                                                                              object\n",
       "Code                                                                                object\n",
       "Year                                                                                 int64\n",
       " (2010 int-$)                                                                      float64\n",
       "Maternal mortality (deaths per 100,000 births) (deaths per 100,000 live births)    float64\n",
       "Unnamed: 5                                                                           int64\n",
       "dtype: object"
      ]
     },
     "execution_count": 5,
     "metadata": {},
     "output_type": "execute_result"
    }
   ],
   "source": [
    "matercsv.dtypes"
   ]
  },
  {
   "cell_type": "code",
   "execution_count": 6,
   "metadata": {},
   "outputs": [],
   "source": [
    "xLife = lifecsv['Life expectancy'].values.reshape(-1,1)\n",
    "yLife = lifecsv['$ Spent per Citizen'].values.reshape(-1,1)\n",
    "xChild = childcsv['Child mortality rate (per 1,000 live births) '].values.reshape(-1,1)\n",
    "yChild = childcsv['$ Spent per Citizen'].values.reshape(-1,1)\n",
    "xMaternal = matercsv['Maternal mortality (deaths per 100,000 births) (deaths per 100,000 live births)'].values.reshape(-1,1)\n",
    "yMaternal = matercsv[' (2010 int-$)'].values.reshape(-1,1)"
   ]
  },
  {
   "cell_type": "code",
   "execution_count": 7,
   "metadata": {},
   "outputs": [],
   "source": [
    "from sklearn.model_selection import train_test_split\n",
    "\n",
    "xLife_train, xLife_test, yLife_train, yLife_test = train_test_split(xLife, yLife, random_state=0)\n",
    "xChild_train, xChild_test, yChild_train, yChild_test = train_test_split(xChild, yChild, random_state=0)\n",
    "xMaternal_train, xMaternal_test, yMaternal_train, yMaternal_test = train_test_split(xMaternal, yMaternal, random_state=0)"
   ]
  },
  {
   "cell_type": "code",
   "execution_count": 8,
   "metadata": {},
   "outputs": [],
   "source": [
    "lifeModel = LinearRegression()\n",
    "childModel = LinearRegression()\n",
    "maternalModel = LinearRegression()"
   ]
  },
  {
   "cell_type": "code",
   "execution_count": 9,
   "metadata": {},
   "outputs": [
    {
     "name": "stdout",
     "output_type": "stream",
     "text": [
      "Training Score: 0.462514444039174\n",
      "Testing Score: 0.43465124747048767\n"
     ]
    }
   ],
   "source": [
    "lifeModel.fit(xLife_train,yLife_train)\n",
    "training_scorel = lifeModel.score(xLife_train, yLife_train)\n",
    "testing_scorel = lifeModel.score(xLife_test, yLife_test)\n",
    "\n",
    "print(f\"Training Score: {training_scorel}\")\n",
    "print(f\"Testing Score: {testing_scorel}\")"
   ]
  },
  {
   "cell_type": "code",
   "execution_count": 10,
   "metadata": {},
   "outputs": [
    {
     "name": "stdout",
     "output_type": "stream",
     "text": [
      "Training Score: 0.19969154449961438\n",
      "Testing Score: 0.16621082839129753\n"
     ]
    }
   ],
   "source": [
    "childModel.fit(xChild_train,yChild_train)\n",
    "training_scorec = childModel.score(xChild_train, yChild_train)\n",
    "testing_scorec = childModel.score(xChild_test, yChild_test)\n",
    "\n",
    "print(f\"Training Score: {training_scorec}\")\n",
    "print(f\"Testing Score: {testing_scorec}\")"
   ]
  },
  {
   "cell_type": "code",
   "execution_count": 11,
   "metadata": {},
   "outputs": [
    {
     "name": "stdout",
     "output_type": "stream",
     "text": [
      "Training Score: 0.18892545264256855\n",
      "Testing Score: 0.14764664924577575\n"
     ]
    }
   ],
   "source": [
    "maternalModel.fit(xMaternal_train,yMaternal_train)\n",
    "training_scorem = maternalModel.score(xMaternal_train, yMaternal_train)\n",
    "testing_scorem = maternalModel.score(xMaternal_test, yMaternal_test)\n",
    "\n",
    "print(f\"Training Score: {training_scorem}\")\n",
    "print(f\"Testing Score: {testing_scorem}\")"
   ]
  }
 ],
 "metadata": {
  "kernelspec": {
   "display_name": "Python 3",
   "language": "python",
   "name": "python3"
  },
  "language_info": {
   "codemirror_mode": {
    "name": "ipython",
    "version": 3
   },
   "file_extension": ".py",
   "mimetype": "text/x-python",
   "name": "python",
   "nbconvert_exporter": "python",
   "pygments_lexer": "ipython3",
   "version": "3.7.1"
  }
 },
 "nbformat": 4,
 "nbformat_minor": 2
}
